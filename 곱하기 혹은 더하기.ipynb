{
 "cells": [
  {
   "cell_type": "code",
   "execution_count": 1,
   "metadata": {
    "scrolled": true
   },
   "outputs": [
    {
     "name": "stdout",
     "output_type": "stream",
     "text": [
      "02894\n",
      "576\n"
     ]
    }
   ],
   "source": [
    "s = input()\n",
    "result = int(s[0])\n",
    "for i in range(1, len(s)):\n",
    "  if int(s[i]) == 0 or int(s[i-1]) == 0:\n",
    "    result = result + int(s[i])\n",
    "  elif int(s[i]) == 0 or int(s[i-1]) == 1:\n",
    "    result = result + int(s[i])\n",
    "  elif int(s[i]) == 1 or int(s[i-1]) == 0:\n",
    "    result = result + int(s[i])\n",
    "  elif int(s[i]) == 1 or int(s[i-1]) == 1:\n",
    "    result = result + int(s[i])\n",
    "  else:\n",
    "    result = result * int(s[i])\n",
    "print(result)"
   ]
  },
  {
   "cell_type": "code",
   "execution_count": 8,
   "metadata": {},
   "outputs": [
    {
     "name": "stdout",
     "output_type": "stream",
     "text": [
      "567\n",
      "210\n"
     ]
    }
   ],
   "source": [
    "# 두 수 모두 2 이상인 경우 곱하기 사용, 두 수 중 하나라도 0이나 1인 경우 더하기\n",
    "s = input()\n",
    "result = int(s[0])\n",
    "for i in range(1, len(s)):\n",
    "  if int(s[i])>1 and int(s[i-1]) >1:\n",
    "    result = result * int(s[i])\n",
    "  else:\n",
    "    result = result + int(s[i])\n",
    "print(result)"
   ]
  },
  {
   "cell_type": "code",
   "execution_count": 12,
   "metadata": {},
   "outputs": [
    {
     "name": "stdout",
     "output_type": "stream",
     "text": [
      "02894\n",
      "576\n"
     ]
    }
   ],
   "source": [
    "# 답안 예시\n",
    "data = input()\n",
    "\n",
    "result = int(data[0])\n",
    "\n",
    "for i in range(1, len(data)):\n",
    "    num = int(data[i])\n",
    "    if num <= 1 or result <= 1:\n",
    "        result += num\n",
    "    else:\n",
    "        result *= num\n",
    "print(result)"
   ]
  },
  {
   "cell_type": "code",
   "execution_count": null,
   "metadata": {},
   "outputs": [],
   "source": []
  }
 ],
 "metadata": {
  "kernelspec": {
   "display_name": "Python 3 (ipykernel)",
   "language": "python",
   "name": "python3"
  },
  "language_info": {
   "codemirror_mode": {
    "name": "ipython",
    "version": 3
   },
   "file_extension": ".py",
   "mimetype": "text/x-python",
   "name": "python",
   "nbconvert_exporter": "python",
   "pygments_lexer": "ipython3",
   "version": "3.8.12"
  }
 },
 "nbformat": 4,
 "nbformat_minor": 4
}
